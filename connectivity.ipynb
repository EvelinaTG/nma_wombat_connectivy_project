{
  "nbformat": 4,
  "nbformat_minor": 0,
  "metadata": {
    "colab": {
      "name": "Untitled0.ipynb",
      "provenance": [],
      "include_colab_link": true
    },
    "kernelspec": {
      "name": "python3",
      "display_name": "Python 3"
    }
  },
  "cells": [
    {
      "cell_type": "markdown",
      "metadata": {
        "id": "view-in-github",
        "colab_type": "text"
      },
      "source": [
        "<a href=\"https://colab.research.google.com/github/mgonzal1/nma_wombat_connectivy_project/blob/Eve/connectivity.ipynb\" target=\"_parent\"><img src=\"https://colab.research.google.com/assets/colab-badge.svg\" alt=\"Open In Colab\"/></a>"
      ]
    },
    {
      "cell_type": "code",
      "metadata": {
        "id": "o5E0jLc0DVAC",
        "colab_type": "code",
        "colab": {}
      },
      "source": [
        "#@title import matplotlib and set defaults\n",
        "from matplotlib import rcParams \n",
        "from matplotlib import pyplot as plt\n",
        "import numpy as np\n",
        "rcParams['figure.figsize'] = [20, 4]\n",
        "rcParams['font.size'] =15\n",
        "rcParams['axes.spines.top'] = False\n",
        "rcParams['axes.spines.right'] = False\n",
        "rcParams['figure.autolayout'] = True"
      ],
      "execution_count": 6,
      "outputs": []
    },
    {
      "cell_type": "code",
      "metadata": {
        "id": "Pxau-hjxDYpV",
        "colab_type": "code",
        "colab": {}
      },
      "source": [
        "#@title Data retrieval\n",
        "import os, requests\n",
        "\n",
        "fname = []\n",
        "for j in range(3):\n",
        "  fname.append('steinmetz_part%d.npz'%j)\n",
        "url = [\"https://osf.io/agvxh/download\"]\n",
        "url.append(\"https://osf.io/uv3mw/download\")\n",
        "url.append(\"https://osf.io/ehmw2/download\")\n",
        "\n",
        "for j in range(len(url)):\n",
        "  if not os.path.isfile(fname[j]):\n",
        "    try:\n",
        "      r = requests.get(url[j])\n",
        "    except requests.ConnectionError:\n",
        "      print(\"!!! Failed to download data !!!\")\n",
        "    else:\n",
        "      if r.status_code != requests.codes.ok:\n",
        "        print(\"!!! Failed to download data !!!\")\n",
        "      else:\n",
        "        with open(fname[j], \"wb\") as fid:\n",
        "          fid.write(r.content)\n",
        "\n",
        "\n",
        "\n",
        "alldat = np.array([])\n",
        "for j in range(len(fname)):\n",
        "  alldat = np.hstack((alldat, np.load('steinmetz_part%d.npz'%j, allow_pickle=True)['dat']))"
      ],
      "execution_count": 7,
      "outputs": []
    },
    {
      "cell_type": "code",
      "metadata": {
        "id": "S9Y7QmlFKL6Z",
        "colab_type": "code",
        "colab": {}
      },
      "source": [
        "n_sessions = 39\n",
        "trial_time = 2.5\n",
        "all_dat = np.zeros(None,None)\n",
        "n_trials_session = []\n",
        "n_neurons_session = []\n",
        "fr = []\n",
        "for session in range(n_sessions):\n",
        "  temp = alldat[session]['spks'][:,:,:].sum(axis=2)/trial_time\n",
        "  n_neurons, n_trials = temp.shape\n",
        "  fr.append(temp)\n",
        "  n_trials_session.append(n_trials)\n",
        "  n_neurons_session.append(n_neurons) \n",
        "n_trials_session = np.array(n_trials_session)\n",
        "n_neurons_session = np.array(n_neurons_session)"
      ],
      "execution_count": 9,
      "outputs": []
    },
    {
      "cell_type": "code",
      "metadata": {
        "id": "oprbEqKiAxS3",
        "colab_type": "code",
        "colab": {}
      },
      "source": [
        "def get_trainning_set():\n",
        "  \"\"\"\n",
        "  Get a subset of alldat for trainning purposes.\n",
        "\n",
        "  Returns:\n",
        "    map: dat['spks']: neurons by trials by time bins. Time bin = 10ms.\n",
        "         dat['brain_area']: brain area for each neuron recorded.\n",
        "         dat['contrast_right']: contrast level for the right stimulus, which is always contralateral to the recorded brain areas.\n",
        "         dat['contrast_left']: contrast level for left stimulus.\n",
        "         dat['response']: which side the response was (-1, 0, 1). Choices for the right stimulus are -1.\n",
        "         dat['response_times']: when the response was registered, which has to be after the go cue. The mouse can turn the wheel before the go cue (and always does!).\n",
        "         dat['wheel']: exact position of the wheel that the mice uses to make a response, binned at 10ms.\n",
        "         dat['pupil']: pupil area (noisy, because pupil is very small).\n",
        "         dat['lfp']: recording of the local field potential in each brain area from this experiment, binned at 10ms.\n",
        "         dat['brain_area_lfp']: brain area names for the LFP channels.\n",
        "  \"\"\"\n",
        "  # Functions to split data and get a subset. If condition of areas  \n",
        "  tranning_set = alldat\n",
        "  return trainning_set\n",
        "\n",
        "def get_validation_set():\n",
        "  \"\"\"\n",
        "  Get a subset of alldat for validation purposes. This should be ~5%-10% of all the data.\n",
        "\n",
        "  Returns:\n",
        "    map: dat['spks']: neurons by trials by time bins. Time bin = 10ms.\n",
        "         dat['brain_area']: brain area for each neuron recorded.\n",
        "         dat['contrast_right']: contrast level for the right stimulus, which is always contralateral to the recorded brain areas.\n",
        "         dat['contrast_left']: contrast level for left stimulus.\n",
        "         dat['response']: which side the response was (-1, 0, 1). Choices for the right stimulus are -1.\n",
        "         dat['response_times']: when the response was registered, which has to be after the go cue. The mouse can turn the wheel before the go cue (and always does!).\n",
        "         dat['wheel']: exact position of the wheel that the mice uses to make a response, binned at 10ms.\n",
        "         dat['pupil']: pupil area (noisy, because pupil is very small).\n",
        "         dat['lfp']: recording of the local field potential in each brain area from this experiment, binned at 10ms.\n",
        "         dat['brain_area_lfp']: brain area names for the LFP channels.\n",
        "  \"\"\"\n",
        "  # Functions to split data and get a subset \n",
        "  validation_set = alldat\n",
        "  return validation_set\n",
        "\n",
        "def get_visual_spikes(data_set):\n",
        "  return\n",
        "\n",
        "def get_motor_spikes(data_set):\n",
        "  return\n",
        "\n",
        "def get_stimulus(data_set):\n",
        "  return\n",
        "\n",
        "def get_decision(data_set):\n",
        "  return\n"
      ],
      "execution_count": 8,
      "outputs": []
    }
  ]
}