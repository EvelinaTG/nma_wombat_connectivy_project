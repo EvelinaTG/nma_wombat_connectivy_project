{
  "nbformat": 4,
  "nbformat_minor": 0,
  "metadata": {
    "colab": {
      "name": "Untitled0.ipynb",
      "provenance": [],
      "include_colab_link": true
    },
    "kernelspec": {
      "name": "python3",
      "display_name": "Python 3"
    }
  },
  "cells": [
    {
      "cell_type": "markdown",
      "metadata": {
        "id": "view-in-github",
        "colab_type": "text"
      },
      "source": [
        "<a href=\"https://colab.research.google.com/github/mgonzal1/nma_wombat_connectivy_project/blob/Eve/connectivity.ipynb\" target=\"_parent\"><img src=\"https://colab.research.google.com/assets/colab-badge.svg\" alt=\"Open In Colab\"/></a>"
      ]
    },
    {
      "cell_type": "code",
      "metadata": {
        "id": "o5E0jLc0DVAC",
        "colab_type": "code",
        "colab": {}
      },
      "source": [
        "#@title import matplotlib and set defaults\n",
        "from matplotlib import rcParams \n",
        "from matplotlib import pyplot as plt\n",
        "import numpy as np\n",
        "import pandas as pd\n",
        "rcParams['figure.figsize'] = [20, 4]\n",
        "rcParams['font.size'] =15\n",
        "rcParams['axes.spines.top'] = False\n",
        "rcParams['axes.spines.right'] = False\n",
        "rcParams['figure.autolayout'] = True"
      ],
      "execution_count": 1,
      "outputs": []
    },
    {
      "cell_type": "code",
      "metadata": {
        "id": "Pxau-hjxDYpV",
        "colab_type": "code",
        "colab": {}
      },
      "source": [
        "#@title Data retrieval\n",
        "import os, requests\n",
        "\n",
        "fname = []\n",
        "for j in range(3):\n",
        "  fname.append('steinmetz_part%d.npz'%j)\n",
        "url = [\"https://osf.io/agvxh/download\"]\n",
        "url.append(\"https://osf.io/uv3mw/download\")\n",
        "url.append(\"https://osf.io/ehmw2/download\")\n",
        "\n",
        "for j in range(len(url)):\n",
        "  if not os.path.isfile(fname[j]):\n",
        "    try:\n",
        "      r = requests.get(url[j])\n",
        "    except requests.ConnectionError:\n",
        "      print(\"!!! Failed to download data !!!\")\n",
        "    else:\n",
        "      if r.status_code != requests.codes.ok:\n",
        "        print(\"!!! Failed to download data !!!\")\n",
        "      else:\n",
        "        with open(fname[j], \"wb\") as fid:\n",
        "          fid.write(r.content)\n",
        "\n",
        "\n",
        "\n",
        "alldat = np.array([])\n",
        "for j in range(len(fname)):\n",
        "  alldat = np.hstack((alldat, np.load('steinmetz_part%d.npz'%j, allow_pickle=True)['dat']))"
      ],
      "execution_count": 2,
      "outputs": []
    },
    {
      "cell_type": "code",
      "metadata": {
        "id": "QxMXHYpJXL-5",
        "colab_type": "code",
        "colab": {}
      },
      "source": [
        "n_sessions = 39\n",
        "trial_time = 2.5\n",
        "def get_trainning_set():\n",
        "  \"\"\"\n",
        "  Get a subset of alldat for trainning purposes.\n",
        "\n",
        "  Returns:\n",
        "    map: dat['spks']: neurons by trials by time bins. Time bin = 10ms.\n",
        "         dat['brain_area']: brain area for each neuron recorded.\n",
        "         dat['contrast_right']: contrast level for the right stimulus, which is always contralateral to the recorded brain areas.\n",
        "         dat['contrast_left']: contrast level for left stimulus.\n",
        "         dat['response']: which side the response was (-1, 0, 1). Choices for the right stimulus are -1.\n",
        "         dat['response_times']: when the response was registered, which has to be after the go cue. The mouse can turn the wheel before the go cue (and always does!).\n",
        "         dat['wheel']: exact position of the wheel that the mice uses to make a response, binned at 10ms.\n",
        "         dat['pupil']: pupil area (noisy, because pupil is very small).\n",
        "         dat['lfp']: recording of the local field potential in each brain area from this experiment, binned at 10ms.\n",
        "         dat['brain_area_lfp']: brain area names for the LFP channels.\n",
        "  \"\"\"\n",
        "  # Functions to split data and get a subset. If condition of areas  \n",
        "  tranning_set = alldat\n",
        "  return trainning_set\n"
      ],
      "execution_count": 3,
      "outputs": []
    },
    {
      "cell_type": "code",
      "metadata": {
        "id": "cK6LUnT-XTjw",
        "colab_type": "code",
        "colab": {}
      },
      "source": [
        "def get_validation_set():\n",
        "  \"\"\"\n",
        "  Get a subset of alldat for validation purposes. This should be ~5%-10% of all the data.\n",
        "\n",
        "  Returns:\n",
        "    map: dat['spks']: neurons by trials by time bins. Time bin = 10ms.\n",
        "         dat['brain_area']: brain area for each neuron recorded.\n",
        "         dat['contrast_right']: contrast level for the right stimulus, which is always contralateral to the recorded brain areas.\n",
        "         dat['contrast_left']: contrast level for left stimulus.\n",
        "         dat['response']: which side the response was (-1, 0, 1). Choices for the right stimulus are -1.\n",
        "         dat['response_times']: when the response was registered, which has to be after the go cue. The mouse can turn the wheel before the go cue (and always does!).\n",
        "         dat['wheel']: exact position of the wheel that the mice uses to make a response, binned at 10ms.\n",
        "         dat['pupil']: pupil area (noisy, because pupil is very small).\n",
        "         dat['lfp']: recording of the local field potential in each brain area from this experiment, binned at 10ms.\n",
        "         dat['brain_area_lfp']: brain area names for the LFP channels.\n",
        "  \"\"\"\n",
        "  \n",
        "  # Functions to split data and get a subset \n",
        "  validation_set = alldat\n",
        "  return validation_set\n"
      ],
      "execution_count": 4,
      "outputs": []
    },
    {
      "cell_type": "code",
      "metadata": {
        "id": "JCd6JDJQB3GV",
        "colab_type": "code",
        "colab": {}
      },
      "source": [
        "#@title Data loading\n",
        "\n",
        "alldat = np.array([])\n",
        "for j in range(len(fname)):\n",
        "  alldat = np.hstack((alldat, np.load('steinmetz_part%d.npz'%j, allow_pickle=True)['dat']))\n"
      ],
      "execution_count": 5,
      "outputs": []
    },
    {
      "cell_type": "code",
      "metadata": {
        "id": "oprbEqKiAxS3",
        "colab_type": "code",
        "colab": {}
      },
      "source": [
        "# select sesssion 12\n",
        "ses = 11\n",
        "dat = alldat[ses]\n",
        "print(dat.keys())\n",
        "\n",
        "#V=X(A1)\n",
        "#X=Stim[nTrials]\n",
        "#V=[ntrialsxnNeurons]\n",
        "#A1=[2xnNeurons]\n",
        "\n",
        "regions = [\"VISa\", \"VISam\", \"VISl\", \"VISp\", \"VISpm\", \"VISrl\", \"ACA\", \"MOs\", \"PL\", \n",
        "                \"ORB\", \"MOp\", \"GPe\", \"SNr\", \"LD\", \"LP\", \"CP\"]\n",
        "\n",
        "nareas = 16 # 16 visual areas\n",
        "NN = len(dat['brain_area']) # number of neurons\n",
        "barea = nareas * np.ones(NN, ) \n",
        "\n",
        "for j in range(nareas):\n",
        "  barea[np.isin(dat['brain_area'], regions[j])] = j # assign a number to each region\n",
        "\n"
      ],
      "execution_count": null,
      "outputs": []
    },
    {
      "cell_type": "code",
      "metadata": {
        "id": "1qe86hKOKLlM",
        "colab_type": "code",
        "colab": {}
      },
      "source": [
        "Mos= dat['spks'][barea==3]\n",
        "Mos\n",
        "print (Mos)\n"
      ],
      "execution_count": null,
      "outputs": []
    },
    {
      "cell_type": "code",
      "metadata": {
        "id": "adCrk-HSBdcR",
        "colab_type": "code",
        "colab": {}
      },
      "source": [
        "vis_right = dat['contrast_right'] # 0 - low - high\n",
        "vis_left = dat['contrast_left'] # 0 - low - high"
      ],
      "execution_count": null,
      "outputs": []
    },
    {
      "cell_type": "code",
      "metadata": {
        "id": "MUQ8cSS_Qni4",
        "colab_type": "code",
        "colab": {
          "base_uri": "https://localhost:8080/",
          "height": 34
        },
        "outputId": "ffa68aa6-4bc4-4144-ad17-35aacbeef8d3"
      },
      "source": [
        "print (n_sessions)"
      ],
      "execution_count": 44,
      "outputs": [
        {
          "output_type": "stream",
          "text": [
            "39\n"
          ],
          "name": "stdout"
        }
      ]
    },
    {
      "cell_type": "code",
      "metadata": {
        "id": "fP3WVWpTAcM_",
        "colab_type": "code",
        "colab": {}
      },
      "source": [
        "dt = dat['bin_size'] # binning at 10 ms\n",
        "NT = dat['spks'].shape[-1]\n",
        "\n",
        "\n",
        "dat['spks'][barea==j]\n",
        "\n",
        " \n",
        "\n",
        "\n",
        "def get_visual_spikes(data_set):\n",
        "\n",
        "  n_sessions\n",
        "  \n",
        "  for session in range(n_sessions):\n",
        "  temp = alldat[session]['spks'][:,:,:].sum(axis=2)/trial_time\n",
        "  n_neurons, n_trials = temp.shape\n",
        "  fr.append(temp)\n",
        "  n_trials_session.append(n_trials)\n",
        "  n_neurons_session.append(n_neurons) \n",
        "n_trials_session = np.array(n_trials_session)\n",
        "n_neurons_session = np.array(n_neurons_session)\n",
        "\n",
        "\n"
      ],
      "execution_count": null,
      "outputs": []
    },
    {
      "cell_type": "code",
      "metadata": {
        "id": "9uokqWaCDAvP",
        "colab_type": "code",
        "colab": {}
      },
      "source": [
        "np.logical_and(vis_left==0, vis_right>0)\n"
      ],
      "execution_count": null,
      "outputs": []
    },
    {
      "cell_type": "code",
      "metadata": {
        "id": "A4BhXN7tDROR",
        "colab_type": "code",
        "colab": {
          "base_uri": "https://localhost:8080/",
          "height": 887
        },
        "outputId": "0b72a87a-640f-4cc8-e326-08dfc350cea2"
      },
      "source": [
        "Mos= dat['spks'][barea==8]\n",
        "aca\n",
        "print (aca)"
      ],
      "execution_count": 39,
      "outputs": [
        {
          "output_type": "stream",
          "text": [
            "[[[0 1 0 ... 0 0 0]\n",
            "  [0 0 0 ... 0 0 0]\n",
            "  [0 0 0 ... 0 0 0]\n",
            "  ...\n",
            "  [0 0 0 ... 0 0 0]\n",
            "  [0 0 0 ... 0 0 0]\n",
            "  [0 0 0 ... 0 0 0]]\n",
            "\n",
            " [[0 0 0 ... 0 0 0]\n",
            "  [0 0 0 ... 0 0 0]\n",
            "  [0 0 0 ... 0 0 0]\n",
            "  ...\n",
            "  [0 0 0 ... 0 0 0]\n",
            "  [0 0 0 ... 0 0 0]\n",
            "  [0 0 0 ... 0 0 0]]\n",
            "\n",
            " [[0 0 0 ... 0 0 0]\n",
            "  [0 0 0 ... 0 0 0]\n",
            "  [0 0 0 ... 0 0 0]\n",
            "  ...\n",
            "  [0 0 0 ... 0 0 0]\n",
            "  [0 0 0 ... 0 0 0]\n",
            "  [0 0 0 ... 0 0 0]]\n",
            "\n",
            " ...\n",
            "\n",
            " [[0 0 0 ... 0 0 0]\n",
            "  [0 0 0 ... 0 0 0]\n",
            "  [0 0 0 ... 0 0 0]\n",
            "  ...\n",
            "  [0 0 0 ... 0 0 0]\n",
            "  [0 0 0 ... 0 0 0]\n",
            "  [0 0 0 ... 0 0 0]]\n",
            "\n",
            " [[0 1 0 ... 0 0 0]\n",
            "  [0 0 0 ... 0 0 0]\n",
            "  [0 0 0 ... 0 0 0]\n",
            "  ...\n",
            "  [0 0 0 ... 0 0 0]\n",
            "  [0 0 0 ... 0 0 0]\n",
            "  [0 0 0 ... 0 0 0]]\n",
            "\n",
            " [[0 0 0 ... 0 0 0]\n",
            "  [0 0 0 ... 0 0 0]\n",
            "  [0 0 0 ... 0 0 0]\n",
            "  ...\n",
            "  [0 0 0 ... 0 0 0]\n",
            "  [0 0 0 ... 0 0 0]\n",
            "  [0 0 0 ... 0 0 0]]]\n"
          ],
          "name": "stdout"
        }
      ]
    },
    {
      "cell_type": "code",
      "metadata": {
        "id": "CCtuEN57AjID",
        "colab_type": "code",
        "colab": {
          "base_uri": "https://localhost:8080/",
          "height": 132
        },
        "outputId": "a6883241-0916-4dba-ba61-21f241dab1e6"
      },
      "source": [
        "def get_visual_stim (data_set):\n",
        "\n",
        "  for \n",
        "\n",
        "dat['spks'][barea==j][:,np.logical_and(vis_left==0, vis_right>0)].mean\n",
        "dat['spks'][barea==j][:,np.logical_and(vis_left>0 , vis_right==0)].mean\n",
        "dat['spks'][barea==j][:,np.logical_and(vis_left==0 , vis_right==0)].mean\n",
        "dat['spks'][barea==j][:,np.logical_and(vis_left>0, vis_right>0)].mean \n",
        " \n",
        "  \n",
        "\n",
        "               \n",
        "  return\n",
        "\n"
      ],
      "execution_count": 9,
      "outputs": [
        {
          "output_type": "error",
          "ename": "SyntaxError",
          "evalue": "ignored",
          "traceback": [
            "\u001b[0;36m  File \u001b[0;32m\"<ipython-input-9-d48d9ab1098e>\"\u001b[0;36m, line \u001b[0;32m3\u001b[0m\n\u001b[0;31m    for\u001b[0m\n\u001b[0m        ^\u001b[0m\n\u001b[0;31mSyntaxError\u001b[0m\u001b[0;31m:\u001b[0m invalid syntax\n"
          ]
        }
      ]
    },
    {
      "cell_type": "code",
      "metadata": {
        "id": "KH1BDrShXdtN",
        "colab_type": "code",
        "colab": {}
      },
      "source": [
        "def get_motor_spikes(data_set):\n",
        "  return\n",
        "\n"
      ],
      "execution_count": null,
      "outputs": []
    },
    {
      "cell_type": "code",
      "metadata": {
        "id": "zl3H6u5mCyfu",
        "colab_type": "code",
        "colab": {}
      },
      "source": [
        "def get_stimulus(data_set):\n",
        "  \"\"\"\n",
        "   Args: \n",
        "      data_set: (map) Subset of alldat\n",
        "      \n",
        "   Returns:\n",
        "      stim_right: (np.array) contrast level for the right stimulus, which is always contralateral to the recorded brain areas.\n",
        "      stim_left: (np.array) contrast level for left stimulus.\n",
        "  \"\"\"\n",
        "  stim_right = np.array(data_set['contrast_right'])\n",
        "  stim_left  = np.array(data_set['contrast_left'])\n",
        "  return stim_right, stim_left\n"
      ],
      "execution_count": null,
      "outputs": []
    },
    {
      "cell_type": "code",
      "metadata": {
        "id": "H5xFnxxrCzp1",
        "colab_type": "code",
        "colab": {}
      },
      "source": [
        "  return\n",
        "\n",
        "def get_decision(data_set):\n",
        "  return"
      ],
      "execution_count": null,
      "outputs": []
    }
  ]
}