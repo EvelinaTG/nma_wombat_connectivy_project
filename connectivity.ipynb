{
  "nbformat": 4,
  "nbformat_minor": 0,
  "metadata": {
    "colab": {
      "name": "Untitled0.ipynb",
      "provenance": [],
      "authorship_tag": "ABX9TyPGg7TbisWc3CGCtuK5i2vB",
      "include_colab_link": true
    },
    "kernelspec": {
      "name": "python3",
      "display_name": "Python 3"
    },
    "widgets": {
      "application/vnd.jupyter.widget-state+json": {
        "6b81f981acba45a7b1ff98d461a74f59": {
          "model_module": "@jupyter-widgets/controls",
          "model_name": "VBoxModel",
          "state": {
            "_view_name": "VBoxView",
            "_dom_classes": [
              "widget-interact"
            ],
            "_model_name": "VBoxModel",
            "_view_module": "@jupyter-widgets/controls",
            "_model_module_version": "1.5.0",
            "_view_count": null,
            "_view_module_version": "1.5.0",
            "box_style": "",
            "layout": "IPY_MODEL_1fefaa465ec94b1c9a02ce7eef14c653",
            "_model_module": "@jupyter-widgets/controls",
            "children": [
              "IPY_MODEL_0ae87441152f4cc29283182126c357af",
              "IPY_MODEL_a5defb7d5a6745f884444e7b860bfaa7"
            ]
          }
        },
        "1fefaa465ec94b1c9a02ce7eef14c653": {
          "model_module": "@jupyter-widgets/base",
          "model_name": "LayoutModel",
          "state": {
            "_view_name": "LayoutView",
            "grid_template_rows": null,
            "right": null,
            "justify_content": null,
            "_view_module": "@jupyter-widgets/base",
            "overflow": null,
            "_model_module_version": "1.2.0",
            "_view_count": null,
            "flex_flow": null,
            "width": null,
            "min_width": null,
            "border": null,
            "align_items": null,
            "bottom": null,
            "_model_module": "@jupyter-widgets/base",
            "top": null,
            "grid_column": null,
            "overflow_y": null,
            "overflow_x": null,
            "grid_auto_flow": null,
            "grid_area": null,
            "grid_template_columns": null,
            "flex": null,
            "_model_name": "LayoutModel",
            "justify_items": null,
            "grid_row": null,
            "max_height": null,
            "align_content": null,
            "visibility": null,
            "align_self": null,
            "height": null,
            "min_height": null,
            "padding": null,
            "grid_auto_rows": null,
            "grid_gap": null,
            "max_width": null,
            "order": null,
            "_view_module_version": "1.2.0",
            "grid_template_areas": null,
            "object_position": null,
            "object_fit": null,
            "grid_auto_columns": null,
            "margin": null,
            "display": null,
            "left": null
          }
        },
        "0ae87441152f4cc29283182126c357af": {
          "model_module": "@jupyter-widgets/controls",
          "model_name": "IntSliderModel",
          "state": {
            "_view_name": "IntSliderView",
            "style": "IPY_MODEL_1cbb4971b5dd4052a35faffc418e0cca",
            "_dom_classes": [],
            "description": "min_areas",
            "step": 1,
            "_model_name": "IntSliderModel",
            "orientation": "horizontal",
            "max": 7,
            "_view_module": "@jupyter-widgets/controls",
            "_model_module_version": "1.5.0",
            "value": 5,
            "_view_count": null,
            "disabled": false,
            "_view_module_version": "1.5.0",
            "min": 0,
            "continuous_update": true,
            "readout_format": "d",
            "description_tooltip": null,
            "readout": true,
            "_model_module": "@jupyter-widgets/controls",
            "layout": "IPY_MODEL_8896f2034d6e4f7cb6eb55fefbd537ba"
          }
        },
        "a5defb7d5a6745f884444e7b860bfaa7": {
          "model_module": "@jupyter-widgets/output",
          "model_name": "OutputModel",
          "state": {
            "_view_name": "OutputView",
            "msg_id": "",
            "_dom_classes": [],
            "_model_name": "OutputModel",
            "outputs": [
              {
                "output_type": "stream",
                "metadata": {
                  "tags": []
                },
                "text": "\nSession: 12 Total neurons: 983\n",
                "stream": "stdout"
              }
            ],
            "_view_module": "@jupyter-widgets/output",
            "_model_module_version": "1.0.0",
            "_view_count": null,
            "_view_module_version": "1.0.0",
            "layout": "IPY_MODEL_55e6dd3b8f9c440d9ea0a6828da56848",
            "_model_module": "@jupyter-widgets/output"
          }
        },
        "1cbb4971b5dd4052a35faffc418e0cca": {
          "model_module": "@jupyter-widgets/controls",
          "model_name": "SliderStyleModel",
          "state": {
            "_view_name": "StyleView",
            "handle_color": null,
            "_model_name": "SliderStyleModel",
            "description_width": "",
            "_view_module": "@jupyter-widgets/base",
            "_model_module_version": "1.5.0",
            "_view_count": null,
            "_view_module_version": "1.2.0",
            "_model_module": "@jupyter-widgets/controls"
          }
        },
        "8896f2034d6e4f7cb6eb55fefbd537ba": {
          "model_module": "@jupyter-widgets/base",
          "model_name": "LayoutModel",
          "state": {
            "_view_name": "LayoutView",
            "grid_template_rows": null,
            "right": null,
            "justify_content": null,
            "_view_module": "@jupyter-widgets/base",
            "overflow": null,
            "_model_module_version": "1.2.0",
            "_view_count": null,
            "flex_flow": null,
            "width": null,
            "min_width": null,
            "border": null,
            "align_items": null,
            "bottom": null,
            "_model_module": "@jupyter-widgets/base",
            "top": null,
            "grid_column": null,
            "overflow_y": null,
            "overflow_x": null,
            "grid_auto_flow": null,
            "grid_area": null,
            "grid_template_columns": null,
            "flex": null,
            "_model_name": "LayoutModel",
            "justify_items": null,
            "grid_row": null,
            "max_height": null,
            "align_content": null,
            "visibility": null,
            "align_self": null,
            "height": null,
            "min_height": null,
            "padding": null,
            "grid_auto_rows": null,
            "grid_gap": null,
            "max_width": null,
            "order": null,
            "_view_module_version": "1.2.0",
            "grid_template_areas": null,
            "object_position": null,
            "object_fit": null,
            "grid_auto_columns": null,
            "margin": null,
            "display": null,
            "left": null
          }
        },
        "55e6dd3b8f9c440d9ea0a6828da56848": {
          "model_module": "@jupyter-widgets/base",
          "model_name": "LayoutModel",
          "state": {
            "_view_name": "LayoutView",
            "grid_template_rows": null,
            "right": null,
            "justify_content": null,
            "_view_module": "@jupyter-widgets/base",
            "overflow": null,
            "_model_module_version": "1.2.0",
            "_view_count": null,
            "flex_flow": null,
            "width": null,
            "min_width": null,
            "border": null,
            "align_items": null,
            "bottom": null,
            "_model_module": "@jupyter-widgets/base",
            "top": null,
            "grid_column": null,
            "overflow_y": null,
            "overflow_x": null,
            "grid_auto_flow": null,
            "grid_area": null,
            "grid_template_columns": null,
            "flex": null,
            "_model_name": "LayoutModel",
            "justify_items": null,
            "grid_row": null,
            "max_height": null,
            "align_content": null,
            "visibility": null,
            "align_self": null,
            "height": null,
            "min_height": null,
            "padding": null,
            "grid_auto_rows": null,
            "grid_gap": null,
            "max_width": null,
            "order": null,
            "_view_module_version": "1.2.0",
            "grid_template_areas": null,
            "object_position": null,
            "object_fit": null,
            "grid_auto_columns": null,
            "margin": null,
            "display": null,
            "left": null
          }
        }
      }
    }
  },
  "cells": [
    {
      "cell_type": "markdown",
      "metadata": {
        "id": "view-in-github",
        "colab_type": "text"
      },
      "source": [
        "<a href=\"https://colab.research.google.com/github/mgonzal1/nma_wombat_connectivy_project/blob/master/connectivity.ipynb\" target=\"_parent\"><img src=\"https://colab.research.google.com/assets/colab-badge.svg\" alt=\"Open In Colab\"/></a>"
      ]
    },
    {
      "cell_type": "code",
      "metadata": {
        "id": "o5E0jLc0DVAC",
        "colab_type": "code",
        "cellView": "form",
        "colab": {}
      },
      "source": [
        "#@title import matplotlib and set defaults\n",
        "from matplotlib import rcParams \n",
        "from matplotlib import pyplot as plt\n",
        "from sklearn.linear_model import LinearRegression\n",
        "import ipywidgets as widgets \n",
        "import numpy as np\n",
        "rcParams['figure.figsize'] = [20, 4]\n",
        "rcParams['font.size'] =15\n",
        "rcParams['axes.spines.top'] = False\n",
        "rcParams['axes.spines.right'] = False\n",
        "rcParams['figure.autolayout'] = True"
      ],
      "execution_count": 4,
      "outputs": []
    },
    {
      "cell_type": "code",
      "metadata": {
        "id": "Pxau-hjxDYpV",
        "colab_type": "code",
        "cellView": "form",
        "colab": {}
      },
      "source": [
        "#@title Data retrieval\n",
        "import os, requests\n",
        "\n",
        "fname = []\n",
        "for j in range(3):\n",
        "  fname.append('steinmetz_part%d.npz'%j)\n",
        "url = [\"https://osf.io/agvxh/download\"]\n",
        "url.append(\"https://osf.io/uv3mw/download\")\n",
        "url.append(\"https://osf.io/ehmw2/download\")\n",
        "\n",
        "for j in range(len(url)):\n",
        "  if not os.path.isfile(fname[j]):\n",
        "    try:\n",
        "      r = requests.get(url[j])\n",
        "    except requests.ConnectionError:\n",
        "      print(\"!!! Failed to download data !!!\")\n",
        "    else:\n",
        "      if r.status_code != requests.codes.ok:\n",
        "        print(\"!!! Failed to download data !!!\")\n",
        "      else:\n",
        "        with open(fname[j], \"wb\") as fid:\n",
        "          fid.write(r.content)\n",
        "\n",
        "\n",
        "\n",
        "alldat = np.array([])\n",
        "for j in range(len(fname)):\n",
        "  alldat = np.hstack((alldat, np.load('steinmetz_part%d.npz'%j, allow_pickle=True)['dat']))"
      ],
      "execution_count": 5,
      "outputs": []
    },
    {
      "cell_type": "code",
      "metadata": {
        "id": "zOpjXvjqbDWr",
        "colab_type": "code",
        "colab": {
          "base_uri": "https://localhost:8080/",
          "height": 83,
          "referenced_widgets": [
            "6b81f981acba45a7b1ff98d461a74f59",
            "1fefaa465ec94b1c9a02ce7eef14c653",
            "0ae87441152f4cc29283182126c357af",
            "a5defb7d5a6745f884444e7b860bfaa7",
            "1cbb4971b5dd4052a35faffc418e0cca",
            "8896f2034d6e4f7cb6eb55fefbd537ba",
            "55e6dd3b8f9c440d9ea0a6828da56848"
          ]
        },
        "cellView": "form",
        "outputId": "3fa7287a-e67a-4191-abea-f7e6fd9782e8"
      },
      "source": [
        "#@title Representative session\n",
        "#@markdown As first step, lets choose 1 session to start trainning the model. Let's see which session has more neurons in the areas that we are going to use and how many neurons it has.\n",
        "@widgets.interact\n",
        "def get_representative_session(min_areas=(0,7)):\n",
        "  \"\"\" To simplify the model we are selecting a session recording with most of the regions represented.\n",
        "    This interactive function help us to decide the session based on the minimal regions represented and number of \n",
        "    total neurons recorded.\n",
        "\n",
        "  \"\"\"\n",
        "  print(\"\")\n",
        "  brain_groups = [[\"VISa\", \"VISam\", \"VISl\", \"VISp\", \"VISpm\", \"VISrl\"], # visual cortex\n",
        "                  [\"CL\", \"LD\", \"LGd\", \"LH\", \"LP\", \"MD\", \"MG\", \"PO\", \"POL\", \"PT\", \"RT\", \"SPF\", \"TH\", \"VAL\", \"VPL\", \"VPM\"], # thalamus\n",
        "                  [\"CA\", \"CA1\", \"CA2\", \"CA3\", \"DG\", \"SUB\", \"POST\"], # hippocampal\n",
        "                  [\"ACA\", \"AUD\", \"COA\", \"DP\", \"ILA\", \"MOp\", \"MOs\", \"OLF\", \"ORB\", \"ORBm\", \"PIR\", \"PL\", \"SSp\", \"SSs\", \"RSP\",\" TT\"], # non-visual cortex\n",
        "                  [\"APN\", \"IC\", \"MB\", \"MRN\", \"NB\", \"PAG\", \"RN\", \"SCs\", \"SCm\", \"SCig\", \"SCsg\", \"ZI\"], # midbrain\n",
        "                  [\"ACB\", \"CP\", \"GPe\", \"LS\", \"LSc\", \"LSr\", \"MS\", \"OT\", \"SNr\", \"SI\"], # basal ganglia \n",
        "                  [\"BLA\", \"BMA\", \"EP\", \"EPd\", \"MEA\"] # cortical subplate\n",
        "                  ]\n",
        "  regions = [\"visual ctx\", \"thal\", \"hipp\", \"non-visual ctx\", \"midbrain\", \"basal ganglia\", \"cortical subplate\"]\n",
        "  for i in range (0,38):\n",
        "    session = alldat[i]\n",
        "    brain_areas = set(session['brain_area'])\n",
        "    representative = []\n",
        "    for group in brain_groups:\n",
        "        representative.append(any(area in brain_areas for area in group))\n",
        "    \n",
        "    if(representative.count(True)>min_areas):\n",
        "      print(\"Session:\" , i, \"Total neurons:\",session['brain_area'].shape[0])\n",
        "      #labels, sizes = np.unique(session['brain_area'], return_counts=True)\n",
        "      #fig = plt.figure()\n",
        "      #ax = fig.add_axes([0,0,1,1])\n",
        "      #ax.bar(regions,representative)\n",
        "      #ax.set_title(\"Session {}\".format(i))\n",
        "      #plt.show()\n"
      ],
      "execution_count": 6,
      "outputs": [
        {
          "output_type": "display_data",
          "data": {
            "application/vnd.jupyter.widget-view+json": {
              "model_id": "6b81f981acba45a7b1ff98d461a74f59",
              "version_minor": 0,
              "version_major": 2
            },
            "text/plain": [
              "interactive(children=(IntSlider(value=3, description='min_areas', max=7), Output()), _dom_classes=('widget-int…"
            ]
          },
          "metadata": {
            "tags": []
          }
        }
      ]
    },
    {
      "cell_type": "code",
      "metadata": {
        "id": "ja4driRhVzD6",
        "colab_type": "code",
        "colab": {}
      },
      "source": [
        "# SET DEFAULTS\n",
        "trial_time = 2.5\n",
        "session=12\n",
        "n_sessions = len(alldat)\n",
        "data_set = alldat[session]"
      ],
      "execution_count": 7,
      "outputs": []
    },
    {
      "cell_type": "code",
      "metadata": {
        "id": "g2ajfTQyPLdz",
        "colab_type": "code",
        "colab": {}
      },
      "source": [
        "#@title General functions to get data\n",
        "def get_trainning_set():\n",
        "  \"\"\"\n",
        "  Get a subset of alldat for trainning purposes.\n",
        "\n",
        "  Returns:\n",
        "    map: dat['spks']: neurons by trials by time bins. Time bin = 10ms.\n",
        "         dat['brain_area']: brain area for each neuron recorded.\n",
        "         dat['contrast_right']: contrast level for the right stimulus, which is always contralateral to the recorded brain areas.\n",
        "         dat['contrast_left']: contrast level for left stimulus.\n",
        "         dat['response']: which side the response was (-1, 0, 1). Choices for the right stimulus are -1.\n",
        "         dat['response_times']: when the response was registered, which has to be after the go cue. The mouse can turn the wheel before the go cue (and always does!).\n",
        "  \"\"\"\n",
        "  # Functions to split data and get a subset. If condition of areas  \n",
        "  tranning_set = alldat\n",
        "  return trainning_set\n",
        "\n",
        "def get_validation_set():\n",
        "  \"\"\"\n",
        "  Get a subset of alldat for validation purposes. This should be ~5%-10% of all the data.\n",
        "\n",
        "  Returns:\n",
        "    map: dat['spks']: neurons by trials by time bins. Time bin = 10ms.\n",
        "         dat['brain_area']: brain area for each neuron recorded.\n",
        "         dat['contrast_right']: contrast level for the right stimulus, which is always contralateral to the recorded brain areas.\n",
        "         dat['contrast_left']: contrast level for left stimulus.\n",
        "         dat['response']: which side the response was (-1, 0, 1). Choices for the right stimulus are -1.\n",
        "         dat['response_times']: when the response was registered, which has to be after the go cue. The mouse can turn the wheel before the go cue (and always does!).\n",
        "  \"\"\"\n",
        "  # Functions to split data and get a subset \n",
        "  validation_set = alldat\n",
        "  return validation_set\n",
        "\n",
        "def get_spks_from_area(dat,brain_area):\n",
        "  n_neurons = dat['spks'].shape[0]\n",
        "  index_neurons = np.zeros(n_neurons,dtype=bool)\n",
        "\n",
        "  for neuron in range(n_neurons):\n",
        "    index_neurons[neuron] = dat['brain_area'][neuron] in brain_area\n",
        "\n",
        "  area_data = (dat['spks'][index_neurons,:,:].sum(axis=2)/trial_time).T\n",
        "  return area_data, index_neurons\n",
        "\n",
        "def get_visual_ctx(data_set):\n",
        "  # TODO: Change to the corrrect areas\n",
        "  visual_ctx = [\"VISa\", \"VISam\", \"VISl\", \"VISp\", \"VISpm\", \"VISrl\"]\n",
        "  visual_data, _ = get_spks_from_area(data_set, visual_ctx)\n",
        "  return visual_data\n",
        "\n",
        "def get_motor_ctx(data_set):\n",
        "  #TODO : Change to the correct areas\n",
        "  motor_ctx = [\"CL\", \"LD\", \"LGd\", \"LH\", \"LP\", \"MD\", \"MG\", \"PO\", \"POL\", \"PT\", \"RT\", \"SPF\", \"TH\", \"VAL\", \"VPL\", \"VPM\"]\n",
        "  motor_data, _ = get_spks_from_area(data_set, motor_ctx)\n",
        "  return motor_data\n",
        "\n",
        "def get_stimulus(data_set):\n",
        "  \"\"\"\n",
        "   Args: \n",
        "      data_set: (map) Subset of alldat\n",
        "      \n",
        "   Returns:\n",
        "      stims[nTrials x 3]  bias: constant with ones\n",
        "                          stim_left: contrast level for the right stimulus.\n",
        "                          stim_right: contrast level for left stimulus.\n",
        "  \"\"\"\n",
        "\n",
        "\n",
        "  stims = data_set['contrast_left'], data_set['contrast_right']\n",
        "  stims = np.array(stims).T\n",
        "  n_trials = stims.shape[0]\n",
        "  stims = np.column_stack((np.ones(n_trials),stims))\n",
        "  return stims\n",
        "\n",
        "def get_response(data_set):\n",
        "  \"\"\"\n",
        "   Args: \n",
        "      data_set: Subset of alldat\n",
        "\n",
        "   Returns:\n",
        "        np.array: which side the response was (-1, 0, 1). Choices for the right stimulus are -1.\n",
        "  \"\"\"\n",
        "  response =  np.array(data_set['response'])\n",
        "  return response\n",
        "\n",
        "def get_binary_response(data_set):\n",
        "  \"\"\"\n",
        "   To simplify the model we ares going to use a binary response instead of the 3 possible values: left, no-action, right\n",
        "   to true or false comparing the stimulus to the expected actions. \n",
        "\n",
        "   Args: \n",
        "      data_set: Subset of alldat\n",
        "\n",
        "   Returns:\n",
        "        binary (np.array boolean) : Returns True or False\n",
        "  \"\"\"\n",
        "  visual_stims = get_stimulus(data_set)\n",
        "  vis_left, vis_right = [visual_stims[:,1], visual_stims[:,2]]\n",
        "  response = get_response(data_set)\n",
        "  binary_response = np.sign(response)==np.sign(vis_left-vis_right)\n",
        "  return binary_response"
      ],
      "execution_count": 11,
      "outputs": []
    },
    {
      "cell_type": "code",
      "metadata": {
        "id": "kgRye-jkU6Mf",
        "colab_type": "code",
        "colab": {
          "base_uri": "https://localhost:8080/",
          "height": 911
        },
        "outputId": "f9e5e909-c7bb-44ff-8e55-7f6661dda8bc"
      },
      "source": [
        "#@title DRAFT OF V1 MODEL\n",
        "\n",
        "\n",
        "visual_dat = get_visual_ctx(data_set)\n",
        "stim = get_stimulus(data_set)\n",
        "\n",
        "print(f'stimuls shape {stim.shape}')\n",
        "print(f'visual_dat shape {visual_dat.shape}')\n",
        "\n",
        "model = LinearRegression(fit_intercept=False).fit(stim, visual_dat) \n",
        "A1 = model.coef_.T\n",
        "visual_dat_hat = stim @ A1 \n",
        "mse = np.mean( (visual_dat-visual_dat_hat)**2 )\n",
        "print(f'MSE {mse}')\n",
        "\n",
        "## TODO : ADD MSE\n",
        "#mse = cross_val... (model, X,y, cv=8, )\n",
        "fig,ax = plt.subplots(figsize=(8,6))\n",
        "plt.plot(model.coef_)\n",
        "plt.legend(['const','stim_L', 'stim_R'])\n",
        "\n",
        "fig,ax = plt.subplots(figsize=(8,6))\n",
        "tr=4\n",
        "ax.bar(range(34),visual_dat[tr,:])\n",
        "ax.bar(range(34),visual_dat_hat[tr,:])\n"
      ],
      "execution_count": 18,
      "outputs": [
        {
          "output_type": "stream",
          "text": [
            "stimuls shape (300, 3)\n",
            "visual_dat shape (300, 34)\n",
            "MSE 3.9932810695570886\n"
          ],
          "name": "stdout"
        },
        {
          "output_type": "execute_result",
          "data": {
            "text/plain": [
              "<BarContainer object of 34 artists>"
            ]
          },
          "metadata": {
            "tags": []
          },
          "execution_count": 18
        },
        {
          "output_type": "display_data",
          "data": {
            "image/png": "[encoded data removed]",
            "text/plain": [
              "<Figure size 576x432 with 1 Axes>"
            ]
          },
          "metadata": {
            "tags": [],
            "needs_background": "light"
          }
        },
        {
          "output_type": "display_data",
          "data": {
            "image/png": "[encoded data removed]",
            "text/plain": [
              "<Figure size 576x432 with 1 Axes>"
            ]
          },
          "metadata": {
            "tags": [],
            "needs_background": "light"
          }
        }
      ]
    }
  ]
}