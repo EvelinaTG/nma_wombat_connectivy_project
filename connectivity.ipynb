#@title import matplotlib and set defaults
from matplotlib import rcParams 
from matplotlib import pyplot as plt
import numpy as np
